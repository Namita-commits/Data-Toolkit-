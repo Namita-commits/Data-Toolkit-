{
  "nbformat": 4,
  "nbformat_minor": 0,
  "metadata": {
    "colab": {
      "provenance": []
    },
    "kernelspec": {
      "name": "python3",
      "display_name": "Python 3"
    },
    "language_info": {
      "name": "python"
    }
  },
  "cells": [
    {
      "cell_type": "markdown",
      "source": [
        "1.What is NumPy, and why is it widely used in Python?"
      ],
      "metadata": {
        "id": "U-Eq1Hb6pri2"
      }
    },
    {
      "cell_type": "markdown",
      "source": [
        "answer :- NumPy (Numerical Python) is a Python library for numerical computing that provides powerful tools for working with arrays, matrices, and numerical data efficiently.\n",
        "\n",
        "1. Core Features\n",
        "N-dimensional array object (ndarray)\n",
        "Far more efficient than Python lists for large datasets.\n",
        "\n",
        "\n",
        "2.Mathematical functions\n",
        "Supports vectorized operations (apply functions to entire arrays without loops).\n",
        "\n",
        "3.Linear algebra & statistics\n",
        "Built-in functions for matrix multiplication, eigenvalues, Fourier transforms, etc.\n",
        "\n",
        "4.Random number generation\n",
        "Useful for simulations, testing, and ML."
      ],
      "metadata": {
        "id": "70jHndeYp1ZS"
      }
    },
    {
      "cell_type": "markdown",
      "source": [
        "2.How does broadcasting work in NumPy ?"
      ],
      "metadata": {
        "id": "0OHXHkZHqRdk"
      }
    },
    {
      "cell_type": "markdown",
      "source": [
        "Broadcasting in NumPy is a set of rules that lets arrays with different shapes work together in arithmetic operations without explicitly replicating data.\n",
        "\n",
        "It’s like NumPy saying: “I’ll stretch your smaller array to match the shape of the bigger one—but only in my head, without wasting memory.”\n",
        "\n",
        "How it Works\n",
        "When you perform operations between arrays of different shapes, NumPy:\n",
        "\n",
        "Compares shapes from right to left (trailing dimensions).\n",
        "\n",
        "Two dimensions are compatible if:\n",
        "\n",
        "They are equal, or\n",
        "\n",
        "One of them is 1 (NumPy will “stretch” it).\n",
        "\n",
        "If the dimensions aren’t compatible, NumPy raises an error."
      ],
      "metadata": {
        "id": "vgIvxUdwqdRB"
      }
    },
    {
      "cell_type": "markdown",
      "source": [
        "3.What is a Pandas DataFrame?"
      ],
      "metadata": {
        "id": "EdLyPVXwqnzU"
      }
    },
    {
      "cell_type": "markdown",
      "source": [
        "answer :- A Pandas DataFrame is a two-dimensional, labeled data structure in Python—think of it like a spreadsheet or a SQL table, but in code.\n",
        "\n",
        "It comes from the Pandas library, which is built on top of NumPy and designed for working with structured data.\n",
        "\n"
      ],
      "metadata": {
        "id": "MWIh3yD_qyXb"
      }
    },
    {
      "cell_type": "markdown",
      "source": [
        "4.Explain the use of the groupby() method in Pandas."
      ],
      "metadata": {
        "id": "BX-b20itq-X6"
      }
    },
    {
      "cell_type": "markdown",
      "source": [
        "answer :- In Pandas, the groupby() method is used to split data into groups based on one or more keys (usually column values), then apply some operation (like sum, mean, count, etc.) to each group, and finally combine the results into a new DataFrame or Series.\n",
        "\n",
        "Think of it as: Split → Apply → Combine (like in Excel’s “Pivot Table” but in Python).\n",
        "\n",
        "Why Use groupby()?\n",
        "\n",
        "Summarizing data (e.g., total sales by region)\n",
        "\n",
        "Aggregating statistics (e.g., average marks per class)\n",
        "\n",
        "Applying custom functions to groups"
      ],
      "metadata": {
        "id": "ZKHAfqDXrFn4"
      }
    },
    {
      "cell_type": "markdown",
      "source": [
        "5. Why is Seaborn preferred for statistical visualizations?"
      ],
      "metadata": {
        "id": "_z0viTF7rd86"
      }
    },
    {
      "cell_type": "markdown",
      "source": [
        "answer :- Seaborn is preferred for statistical visualizations in Python because it’s built specifically for making complex, attractive, and statistically meaningful plots easily—often in just one or two lines of code.\n",
        "\n",
        "It sits on top of Matplotlib, but:\n",
        "\n",
        "Handles statistical calculations automatically.\n",
        "\n",
        "Has prettier default styles.\n",
        "\n",
        "Requires less manual coding for common statistical charts.\n",
        "\n"
      ],
      "metadata": {
        "id": "a0nPktWSrhxD"
      }
    },
    {
      "cell_type": "markdown",
      "source": [
        "6. What are the differences between NumPy arrays and Python lists?"
      ],
      "metadata": {
        "id": "Th90tpX8rwHE"
      }
    },
    {
      "cell_type": "markdown",
      "source": [
        "answer :- Here’s a clear comparison between NumPy arrays and Python lists so you can see why NumPy is often preferred for numerical work:\n",
        "\n",
        "1. Data Type\n",
        "\n",
        "Python List → Can store different data types in the same list.\n",
        "\n",
        "Example: [1, \"hello\", 3.5]\n",
        "\n",
        "NumPy Array → Stores only one data type (int, float, bool, etc.) for efficiency.\n",
        "\n",
        "Example: array([1, 2, 3], dtype=int)\n",
        "\n",
        "2. Memory Efficiency\n",
        "\n",
        "Lists store references to objects → more memory usage.\n",
        "\n",
        "NumPy arrays store data in contiguous memory blocks → much less memory used.\n",
        "\n",
        "3. Speed\n",
        "\n",
        "Lists require Python loops for element-wise operations (slow).\n",
        "\n",
        "NumPy arrays use vectorized operations written in C (very fast).\n",
        "\n",
        "4. Functionality\n",
        "\n",
        "Lists are general-purpose containers (append, insert, remove).\n",
        "\n",
        "NumPy arrays support mathematical operations, broadcasting, and multidimensional indexing.\n",
        "\n",
        "\n",
        "5. Shape & Dimensions\n",
        "\n",
        "Lists can be nested to mimic multi-dimensional arrays, but they’re irregular and harder to handle.\n",
        "\n",
        "NumPy arrays have fixed, well-defined shapes and can be multi-dimensional (ndarray).\n",
        "\n",
        "| Feature           | Python List          | NumPy Array (`ndarray`) |\n",
        "| ----------------- | -------------------- | ----------------------- |\n",
        "| Data type storage | Multiple allowed     | Single (homogeneous)    |\n",
        "| Speed             | Slower               | Faster                  |\n",
        "| Memory usage      | Higher               | Lower                   |\n",
        "| Math operations   | Manual loops needed  | Built-in vectorized ops |\n",
        "| Dimensions        | 1D (nested for more) | 1D, 2D, ND supported    |\n",
        "\n",
        "\n",
        "\n",
        "\n",
        "\n",
        "\n",
        "\n",
        "\n"
      ],
      "metadata": {
        "id": "6EKReXQWr7aK"
      }
    },
    {
      "cell_type": "markdown",
      "source": [
        "7. What is a heatmap, and when should it be used?"
      ],
      "metadata": {
        "id": "D-2JfHFns7OM"
      }
    },
    {
      "cell_type": "markdown",
      "source": [
        "answer :- A heatmap is a type of data visualization that uses color shading to represent values in a 2D matrix or table.\n",
        "\n",
        "Rows and columns represent categories,\n",
        "\n",
        "Colors represent the magnitude of the value at each intersection.\n",
        "\n",
        "When to Use a Heatmap\n",
        "\n",
        "1.You should use a heatmap when you want to:\n",
        "\n",
        "Show patterns or correlations in a dataset\n",
        "\n",
        "Example: A correlation matrix for different features in a dataset.\n",
        "\n",
        "2.Highlight intensity or frequency\n",
        "\n",
        "Example: Website click heatmap showing where users click most.\n",
        "\n",
        "3.Visualize large matrices or tables\n",
        "\n",
        "Easier to interpret than reading raw numbers.\n",
        "\n",
        "4.Spot outliers\n",
        "\n",
        "Unusual colors will stand out."
      ],
      "metadata": {
        "id": "AN8nAJjqtFg8"
      }
    },
    {
      "cell_type": "markdown",
      "source": [
        "8.A What does the term “vectorized operation” mean in NumPy?"
      ],
      "metadata": {
        "id": "HGyWOHGWtmV7"
      }
    },
    {
      "cell_type": "markdown",
      "source": [
        "answer :- n NumPy, a vectorized operation means performing an operation on entire arrays (vectors, matrices) at once, without writing explicit Python loops.\n",
        "\n",
        "Instead of looping through elements manually, NumPy applies the operation in optimized C code under the hood, making it faster and more concise.\n",
        "\n"
      ],
      "metadata": {
        "id": "8WOSwkOJt8x2"
      }
    },
    {
      "cell_type": "markdown",
      "source": [
        "9.How does Matplotlib differ from Plotly?"
      ],
      "metadata": {
        "id": "v2p6x9TNuLD7"
      }
    },
    {
      "cell_type": "markdown",
      "source": [
        "answer :- Matplotlib and Plotly are both popular Python libraries for data visualization, but they serve slightly different purposes and have different strengths.\n",
        "\n",
        "| Feature       | Matplotlib               | Plotly                   |\n",
        "| ------------- | ------------------------ | ------------------------ |\n",
        "| Interactivity | Static                   | Interactive              |\n",
        "| Ease of use   | Steeper learning curve   | Easier for quick plots   |\n",
        "| Styling       | Manual                   | Attractive by default    |\n",
        "| Best for      | Research, static reports | Dashboards, web apps     |\n",
        "| Ecosystem     | Scientific Python stack  | Dash, Jupyter, web-based |\n"
      ],
      "metadata": {
        "id": "xVuXjHILuXoN"
      }
    },
    {
      "cell_type": "markdown",
      "source": [
        "10.A What is the significance of hierarchical indexing in Pandas?"
      ],
      "metadata": {
        "id": "Dxav_iB5uumi"
      }
    },
    {
      "cell_type": "markdown",
      "source": [
        "answer :- Hierarchical indexing (also called MultiIndex) in Pandas lets you have multiple levels of row or column labels in a DataFrame or Series.\n",
        "\n",
        "It’s like having rows or columns organized in a tree structure instead of a single flat index.\n",
        "\n",
        "Significance / Why It’s Useful\n",
        "1. Organizes Complex Data\n",
        "Lets you represent higher-dimensional data in a 2D table.\n",
        "\n",
        "Example: Sales data for multiple years, each with quarters.\n",
        "\n",
        "2. Easier Data Analysis\n",
        "You can group, slice, and filter data using multiple keys.\n",
        "\n",
        "Makes operations like groupby() results easier to read and work with.\n",
        "\n",
        "3. Compact Representation\n",
        "Avoids repeating labels for each combination, saving memory and making tables cleaner.\n",
        "\n",
        "4. Supports Cross-Sections\n",
        "You can easily select subsets using .loc[] with tuples or .xs() for cross-sections.\n",
        "\n",
        "Real-Life Uses\n",
        "\n",
        "Financial data (Year → Quarter → Metrics)\n",
        "\n",
        "Geographic data (Country → State → City)\n",
        "\n",
        "Experimental results (Test → Sample → Measurement)"
      ],
      "metadata": {
        "id": "Vyl0RVBFvA9X"
      }
    },
    {
      "cell_type": "markdown",
      "source": [
        "11.A What is the role of Seaborn’s pairplot() function?"
      ],
      "metadata": {
        "id": "cN0vFYDYvcud"
      }
    },
    {
      "cell_type": "markdown",
      "source": [
        "In Seaborn, the pairplot() function is used to quickly visualize pairwise relationships between numerical variables in a dataset.\n",
        "\n",
        "It creates a grid of scatterplots for every possible combination of variables, and histograms (or KDE plots) on the diagonal to show each variable’s distribution.\n",
        "\n",
        "Role / Why It’s Useful\n",
        "1.Exploratory Data Analysis (EDA) → Quickly spot trends, patterns, and relationships between variables.\n",
        "\n",
        "2.Correlation insights → Helps detect whether variables are positively, negatively, or not correlated.\n",
        "\n",
        "3.Outlier detection → Points that don’t fit the general pattern are easy to see.\n",
        "\n",
        "4.Class separation → When using the hue parameter, you can check how well categories are separated in feature space.\n",
        "\n"
      ],
      "metadata": {
        "id": "brTi21ZPvshj"
      }
    },
    {
      "cell_type": "markdown",
      "source": [
        "12.A What is the purpose of the describe() function in Pandas ?"
      ],
      "metadata": {
        "id": "HIYG1i9DNkpg"
      }
    },
    {
      "cell_type": "markdown",
      "source": [
        "answer :- In Pandas, the describe() function is used to generate summary statistics of your dataset quickly.\n",
        "\n",
        "It’s like asking Pandas: “Give me the quick facts about my data.”\n",
        "\n",
        "Purpose\n",
        "\n",
        "Get a quick overview of your data’s distribution.\n",
        "\n",
        "Check for anomalies or outliers.\n",
        "\n",
        "Understand ranges, central tendency, and spread before deeper analysis.\n",
        "\n",
        "Summarize both numeric and categorical columns (with include parameter)."
      ],
      "metadata": {
        "id": "NUeCH1B5Nw9C"
      }
    },
    {
      "cell_type": "markdown",
      "source": [
        "13.Why is handling missing data important in Pandas ?"
      ],
      "metadata": {
        "id": "hAIk77LlOAPY"
      }
    },
    {
      "cell_type": "markdown",
      "source": [
        "Handling missing data in Pandas is important because missing values can distort analysis, break calculations, and mislead conclusions if left untreated.\n",
        "\n",
        "Why It Matters\n",
        "1. Ensures Accuracy in Analysis\n",
        "Many statistical methods assume no missing values.\n",
        "\n",
        "Missing values can cause wrong means, medians, correlations, and model predictions.\n",
        "\n",
        "2. Prevents Errors in Computation\n",
        "Functions like .mean() or .sum() may ignore NaNs, but others (e.g., np.log()) can fail or produce NaN outputs.\n",
        "\n",
        "Joining datasets with missing keys can lead to unexpected results.\n",
        "\n",
        "3. Improves Model Performance\n",
        "Machine learning models often cannot handle NaN values directly.\n",
        "\n",
        "Unhandled NaNs can cause model training to crash or produce biased results.\n",
        "\n",
        "4. Maintains Data Integrity\n",
        "Missing values might indicate data entry errors, sensor failures, or incomplete surveys.\n",
        "\n",
        "Understanding why data is missing can guide better decisions (drop, fill, or flag).\n",
        "\n"
      ],
      "metadata": {
        "id": "XbREkfLqOHSy"
      }
    },
    {
      "cell_type": "markdown",
      "source": [
        "14.What are the benefits of using Plotly for data visualization ?\n"
      ],
      "metadata": {
        "id": "gXFkDz87OZug"
      }
    },
    {
      "cell_type": "markdown",
      "source": [
        "Plotly is popular for data visualization because it combines beautiful visuals with interactivity, making it great for both exploration and presentation.\n",
        "\n",
        "Benefits of Using Plotly\n",
        "1. Interactive by Default\n",
        "Hover tooltips, zooming, panning, and clickable legends work out of the box.\n",
        "\n",
        "No need for extra configuration to make charts interactive.\n",
        "\n",
        "2. Wide Variety of Chart Types\n",
        "Covers basic plots (line, bar, scatter) and advanced ones (3D plots, maps, treemaps, contour plots, candlesticks).\n",
        "\n",
        "Specialized charts for scientific, financial, and geographic data.\n",
        "\n",
        "3. Easy to Use\n",
        "plotly.express provides a high-level API for quick, concise plotting.\n",
        "\n",
        "Works directly with Pandas DataFrames—just pass column names.\n",
        "\n",
        "4. Web & Dashboard Friendly\n",
        "Plots can be embedded in:\n",
        "\n",
        "Dash apps (Plotly’s web app framework)\n",
        "\n",
        "HTML reports\n",
        "\n",
        "Jupyter notebooks\n",
        "\n",
        "Great for sharing interactive charts online.\n",
        "\n",
        "5. Highly Customizable\n",
        "Control over every detail—colors, shapes, tooltips, animation.\n",
        "\n",
        "Multiple layout options for professional visuals.\n",
        "\n",
        "6. Supports Animation\n",
        "Built-in animation support for showing changes over time.\n",
        "\n",
        "Great for storytelling in presentations.\n",
        "\n",
        "7. Cross-Language Support\n",
        "Works with Python, R, Julia, JavaScript, making it versatile across teams."
      ],
      "metadata": {
        "id": "nTT2Mw5TOkUv"
      }
    },
    {
      "cell_type": "markdown",
      "source": [
        "15. How does NumPy handle multidimensional arrays?"
      ],
      "metadata": {
        "id": "aInsJkPaO_iH"
      }
    },
    {
      "cell_type": "markdown",
      "source": [
        "answer :- NumPy handles multidimensional arrays using its core data structure: the ndarray (N-dimensional array).\n",
        "\n",
        "Instead of having just a single row (1D) or a table (2D), NumPy can store data in any number of dimensions—2D, 3D, 4D, and beyond—while keeping it efficient and fast.\n",
        "\n",
        "How NumPy Handles Multidimensional Arrays\n",
        "1. Shape\n",
        "Every ndarray has a .shape attribute, which is a tuple showing its dimensions.\n",
        "\n",
        "Example:\n",
        "\n",
        "(3,) → 1D array with 3 elements\n",
        "\n",
        "(3, 4) → 2D array with 3 rows, 4 columns\n",
        "\n",
        "(2, 3, 4) → 3D array with 2 “blocks”, each 3×4\n",
        "\n",
        "2. Data Storage\n",
        "All elements are stored in contiguous memory (like in C arrays).\n",
        "\n",
        "NumPy just changes the view for indexing across multiple dimensions.\n",
        "\n"
      ],
      "metadata": {
        "id": "IlwT6F3IPCnf"
      }
    },
    {
      "cell_type": "markdown",
      "source": [
        "16.What is the role of Bokeh in data visualization?"
      ],
      "metadata": {
        "id": "O5XFLCs5PWK1"
      }
    },
    {
      "cell_type": "markdown",
      "source": [
        "Role of Bokeh in Data Visualization\n",
        "1. Interactive Plots\n",
        "Built-in tools for zooming, panning, hovering, and selecting data.\n",
        "\n",
        "Adds interactivity without manually writing JavaScript.\n",
        "\n",
        "\n",
        "2. Web Integration\n",
        "Outputs as HTML, so plots can be embedded in:\n",
        "\n",
        "Web applications\n",
        "\n",
        "Jupyter notebooks\n",
        "\n",
        "Dashboards\n",
        "\n",
        "3. Large Dataset Handling\n",
        "Supports streaming and real-time updates.\n",
        "\n",
        "Can efficiently handle millions of points with WebGL acceleration.\n",
        "\n",
        "4. Dashboard Building\n",
        "Can combine multiple plots, widgets (sliders, dropdowns), and layouts into a single interactive interface.\n",
        "\n",
        "Works well for data exploration and reporting tools.\n",
        "\n",
        "5. Pythonic Syntax\n",
        "Designed for Python users who want interactive visuals without deep web development skills."
      ],
      "metadata": {
        "id": "ZGZQbrKiPfzZ"
      }
    },
    {
      "cell_type": "markdown",
      "source": [
        "17 Explain the difference between apply() and map() in Pandas."
      ],
      "metadata": {
        "id": "VwZFGcMIP1Dm"
      }
    },
    {
      "cell_type": "markdown",
      "source": [
        "| Feature            | `map()`                | `apply()`                                     |\n",
        "| ------------------ | ---------------------- | --------------------------------------------- |\n",
        "| Works on           | Series only            | Series & DataFrame                            |\n",
        "| Input function     | Function, dict, Series | Function only                                 |\n",
        "| Axis control       | No                     | Yes (`axis=0` for columns, `axis=1` for rows) |\n",
        "| Output flexibility | Single Series          | Series, DataFrame, or scalar                  |\n",
        "| Best for           | Element-wise changes   | Row/column-wise complex operations            |\n"
      ],
      "metadata": {
        "id": "vI7demihQASj"
      }
    },
    {
      "cell_type": "markdown",
      "source": [
        "18.What are some advanced features of NumPy?"
      ],
      "metadata": {
        "id": "YJMWrMv2QG4_"
      }
    },
    {
      "cell_type": "markdown",
      "source": [
        "NumPy isn’t just about creating arrays and doing basic math—it has quite a few advanced capabilities that make it a powerhouse for numerical computing.\n",
        "\n",
        "Here’s a breakdown of some of its more advanced features:\n",
        "\n",
        "1. Broadcasting\n",
        "\n",
        "Lets you perform arithmetic operations on arrays of different shapes without explicitly replicating data.\n",
        "\n",
        "Saves memory and computation time.\n",
        "\n",
        "Example: Adding a 1D array to each row of a 2D array without looping\n",
        "\n",
        "2. Vectorization\n",
        "\n",
        "Replaces slow Python loops with highly optimized C-level operations.\n",
        "\n",
        "Greatly improves performance for element-wise operations.\n",
        "\n",
        "3. Structured & Record Arrays\n",
        "\n",
        "Arrays that can store data with multiple fields (like columns in a table).\n",
        "\n",
        "Useful for heterogeneous data.\n",
        "\n",
        "4. Memory Mapping of Large Files\n",
        "Using numpy.memmap, you can work with huge datasets without loading the entire file into RAM.\n",
        "\n",
        "Helpful for processing large images, binary data, or time-series data.\n",
        "\n",
        "5. Fancy Indexing\n",
        "Lets you index arrays using integer lists/arrays or boolean masks for complex selections.\n",
        "\n",
        "Example: Selecting arbitrary elements or rearranging rows\n",
        "\n",
        "6. Universal Functions (ufuncs)\n",
        "Highly optimized, element-wise operations on arrays (e.g., np.sin, np.exp, np.add).\n",
        "\n",
        "Support vectorization, broadcasting, and reductions.\n"
      ],
      "metadata": {
        "id": "eJ55-zF9QUDd"
      }
    },
    {
      "cell_type": "markdown",
      "source": [
        "19.A How does Pandas simplify time series analysis?\n"
      ],
      "metadata": {
        "id": "684U8gxgQyII"
      }
    },
    {
      "cell_type": "markdown",
      "source": [
        "1. DateTime Indexing\n",
        "You can store dates/times directly as the index using DatetimeIndex.\n",
        "\n",
        "This allows easy slicing and selection by date.\n",
        "\n",
        "2. Automatic Date Parsing\n",
        "pd.to_datetime() converts strings to datetime64 objects automatically, handling many formats.\n",
        "\n",
        "3. Resampling & Frequency Conversion\n",
        "Change the frequency of data (e.g., daily to monthly) using resample()\n",
        "\n",
        "4. Shifting & Lagging\n",
        "Shift data forward or backward in time for comparisons or lag analysis.\n",
        "\n",
        "5. Rolling & Moving Window Calculations\n",
        "Compute rolling means, sums, correlations, etc.\n",
        "\n",
        "6. Date Offsets\n",
        "Easily add or subtract time using Pandas’ date offset objects.\n",
        "\n",
        "7. Handling Missing Dates\n",
        "asfreq() and reindex() can fill or interpolate missing time periods.\n",
        "\n",
        "8. Built-in Time Zone Support\n",
        "Convert between time zones effortlessly.\n"
      ],
      "metadata": {
        "id": "OgJ3wgZsQ7kU"
      }
    },
    {
      "cell_type": "markdown",
      "source": [
        "20. What is the role of a pivot table in Pandas?"
      ],
      "metadata": {
        "id": "5SOmrf5FRgLm"
      }
    },
    {
      "cell_type": "markdown",
      "source": [
        "Role of a Pivot Table in Pandas\n",
        "Data Summarization\n",
        "\n",
        "Condenses large datasets into a more readable form by grouping and aggregating data.\n",
        "\n",
        "Example: Getting the average sales per product per region.\n",
        "\n",
        "Reshaping Data\n",
        "\n",
        "Turns long format data into a wide format by reorganizing rows and columns.\n",
        "\n",
        "Multi-level Grouping\n",
        "\n",
        "Supports multiple index levels for rows and columns (hierarchical pivoting).\n",
        "\n",
        "Aggregation\n",
        "\n",
        "Applies statistical functions like mean, sum, count, min, max, or custom functions.\n",
        "\n",
        "Comparison Across Categories\n",
        "\n",
        "Makes it easy to compare metrics across different groups side-by-side."
      ],
      "metadata": {
        "id": "j7zsnZp2RsFC"
      }
    },
    {
      "cell_type": "markdown",
      "source": [
        "21. Why is NumPy’s array slicing faster than Python’s list slicing ?"
      ],
      "metadata": {
        "id": "qRplbUq-RzV4"
      }
    },
    {
      "cell_type": "markdown",
      "source": [
        "NumPy’s array slicing is faster than Python’s list slicing because of how data is stored and accessed in memory and how NumPy is implemented under the hood.\n",
        "\n",
        "1. Contiguous Memory Storage\n",
        "Python lists are arrays of pointers to objects scattered across memory.\n",
        "\n",
        "NumPy arrays store elements in a contiguous block of memory as raw C data types (e.g., float64).\n",
        "\n",
        "Contiguous storage allows the CPU to:\n",
        "\n",
        "Use vectorized instructions (SIMD)\n",
        "\n",
        "Reduce cache misses\n",
        "\n",
        "Access elements without dereferencing multiple pointers.\n",
        "\n",
        "2. Views Instead of Copies\n",
        "NumPy slicing usually creates a view of the original array, meaning:\n",
        "\n",
        "No new array is allocated.\n",
        "\n",
        "Only metadata (shape, strides, start position) changes.\n",
        "\n",
        "This makes it O(1) operation (constant time).\n",
        "\n",
        "Python list slicing always creates a new list and copies each element, which is O(n).\n",
        "\n",
        "3. C-Level Implementation\n",
        "NumPy is implemented in C, which is compiled and optimized for speed.\n",
        "\n",
        "Python lists are implemented in Python’s object model, which adds overhead from:\n",
        "\n",
        "Type checking\n",
        "\n",
        "Reference counting\n",
        "\n",
        "Pointer dereferencing\n",
        "\n",
        "4. Fixed Data Types\n",
        "NumPy arrays store elements of a single fixed type, so:\n",
        "\n",
        "No need to store type metadata for each element.\n",
        "\n",
        "Arithmetic and slicing are faster because the CPU knows exactly how to interpret memory"
      ],
      "metadata": {
        "id": "7foG8yeRR218"
      }
    },
    {
      "cell_type": "code",
      "source": [],
      "metadata": {
        "id": "VEhsKK85SHgx"
      },
      "execution_count": null,
      "outputs": []
    },
    {
      "cell_type": "markdown",
      "source": [
        "22.What are some common use cases for Seaborn?"
      ],
      "metadata": {
        "id": "w5JoZiEfSM-V"
      }
    },
    {
      "cell_type": "code",
      "source": [],
      "metadata": {
        "id": "KZOXAcYhSPRW"
      },
      "execution_count": null,
      "outputs": []
    },
    {
      "cell_type": "markdown",
      "source": [
        "Seaborn is built on top of Matplotlib and is designed for statistical data visualization — it makes it easy to create beautiful, informative plots with minimal code.\n",
        "\n",
        "1. Visualizing Distributions\n",
        "Understand the shape and spread of your data.\n",
        "\n",
        "Functions:\n",
        "\n",
        "sns.histplot() – Histogram (optionally with KDE)\n",
        "\n",
        "sns.kdeplot() – Kernel Density Estimation curve\n",
        "\n",
        "sns.ecdfplot() – Empirical CDF\n",
        "\n",
        "2. Relationship Between Two Variables\n",
        "Great for detecting trends, correlations, and patterns.\n",
        "\n",
        "Functions:\n",
        "\n",
        "sns.scatterplot() – Basic scatter plot\n",
        "\n",
        "sns.regplot() – Scatter plot with regression line\n",
        "\n",
        "sns.lmplot() – Multi-facet regression plots\n",
        "\n",
        "3. Comparing Categories\n",
        "Explore differences between groups.\n",
        "\n",
        "Functions:\n",
        "\n",
        "sns.barplot() – Mean with confidence intervals\n",
        "\n",
        "sns.boxplot() – Median, quartiles, and outlier\n",
        "sns.violinplot() – Distribution + summary stats\n",
        "\n",
        "4. Time Series Visualization\n",
        "See trends over time.\n",
        "\n",
        "Functions:\n"
      ],
      "metadata": {
        "id": "IrTbjhaOSR_o"
      }
    },
    {
      "cell_type": "code",
      "source": [],
      "metadata": {
        "id": "nP_Qx9TGSvo-"
      },
      "execution_count": null,
      "outputs": []
    },
    {
      "cell_type": "markdown",
      "source": [
        "Practical"
      ],
      "metadata": {
        "id": "YfD99E6USyuo"
      }
    },
    {
      "cell_type": "code",
      "source": [],
      "metadata": {
        "id": "wUzakU7NSzeD"
      },
      "execution_count": null,
      "outputs": []
    },
    {
      "cell_type": "markdown",
      "source": [
        "1.How do you create a 2D NumPy array and calculate the sum of each row?"
      ],
      "metadata": {
        "id": "eeO8XeJSS50H"
      }
    },
    {
      "cell_type": "code",
      "source": [
        "import numpy as np\n",
        "\n",
        "# Create a 2D NumPy array\n",
        "arr = np.array([[1, 2, 3],\n",
        "                [4, 5, 6],\n",
        "                [7, 8, 9]])\n",
        "\n",
        "# Calculate the sum of each row\n",
        "row_sums = np.sum(arr, axis=1)\n",
        "\n",
        "print(\"Array:\\n\", arr)\n",
        "print(\"Sum of each row:\", row_sums)\n"
      ],
      "metadata": {
        "colab": {
          "base_uri": "https://localhost:8080/"
        },
        "id": "m-grKuERS7F-",
        "outputId": "5d579199-77df-4afb-8f1b-c3ceba909c1c"
      },
      "execution_count": 1,
      "outputs": [
        {
          "output_type": "stream",
          "name": "stdout",
          "text": [
            "Array:\n",
            " [[1 2 3]\n",
            " [4 5 6]\n",
            " [7 8 9]]\n",
            "Sum of each row: [ 6 15 24]\n"
          ]
        }
      ]
    },
    {
      "cell_type": "code",
      "source": [],
      "metadata": {
        "id": "r5JOBG16TBJ_"
      },
      "execution_count": null,
      "outputs": []
    },
    {
      "cell_type": "markdown",
      "source": [
        "2.Write a Pandas script to find the mean of a specific column in a DataFrame."
      ],
      "metadata": {
        "id": "qGZw3spFTowB"
      }
    },
    {
      "cell_type": "code",
      "source": [
        "import pandas as pd\n",
        "\n",
        "# Sample DataFrame\n",
        "data = {\n",
        "    'Name': ['Alice', 'Bob', 'Charlie', 'David'],\n",
        "    'Age': [25, 30, 35, 40],\n",
        "    'Salary': [50000, 60000, 70000, 80000]\n",
        "}\n",
        "\n",
        "df = pd.DataFrame(data)\n",
        "\n",
        "# Find the mean of a specific column (e.g., 'Salary')\n",
        "mean_salary = df['Salary'].mean()\n",
        "\n",
        "print(\"Mean Salary:\", mean_salary)\n"
      ],
      "metadata": {
        "colab": {
          "base_uri": "https://localhost:8080/"
        },
        "id": "Ub543S0XTqbp",
        "outputId": "1c9b6827-4d6b-46b5-a235-abfe33abdf7a"
      },
      "execution_count": 2,
      "outputs": [
        {
          "output_type": "stream",
          "name": "stdout",
          "text": [
            "Mean Salary: 65000.0\n"
          ]
        }
      ]
    },
    {
      "cell_type": "markdown",
      "source": [
        "3.Create a scatter plot using Matplotlib."
      ],
      "metadata": {
        "id": "TalV9OpvT1cx"
      }
    },
    {
      "cell_type": "code",
      "source": [
        "import matplotlib.pyplot as plt\n",
        "\n",
        "# Sample data\n",
        "x = [5, 7, 8, 7, 6, 9, 5, 6, 7, 8]\n",
        "y = [99, 86, 87, 88, 100, 86, 103, 87, 94, 78]\n",
        "\n",
        "# Create scatter plot\n",
        "plt.scatter(x, y, color='blue', marker='o', s=100, alpha=0.7, edgecolor='black')\n",
        "\n",
        "# Add labels and title\n",
        "plt.xlabel(\"X-axis Label\")\n",
        "plt.ylabel(\"Y-axis Label\")\n",
        "plt.title(\"Sample Scatter Plot\")\n",
        "\n",
        "# Show plot\n",
        "plt.show()\n"
      ],
      "metadata": {
        "colab": {
          "base_uri": "https://localhost:8080/",
          "height": 472
        },
        "id": "Brn58Dz3T23C",
        "outputId": "f41da74c-eb46-49be-8717-9f276fbd9c03"
      },
      "execution_count": 3,
      "outputs": [
        {
          "output_type": "display_data",
          "data": {
            "text/plain": [
              "<Figure size 640x480 with 1 Axes>"
            ],
            "image/png": "[encoded data removed]"
          },
          "metadata": {}
        }
      ]
    },
    {
      "cell_type": "code",
      "source": [],
      "metadata": {
        "id": "ux03wUwNT8NR"
      },
      "execution_count": null,
      "outputs": []
    },
    {
      "cell_type": "markdown",
      "source": [
        "4.How do you calculate the correlation matrix using Seaborn and visualize it with a heatmap."
      ],
      "metadata": {
        "id": "WlIGdnpHUCjz"
      }
    },
    {
      "cell_type": "code",
      "source": [
        "import pandas as pd\n",
        "import seaborn as sns\n",
        "import matplotlib.pyplot as plt\n",
        "\n",
        "# Sample DataFrame\n",
        "data = {\n",
        "    'A': [1, 2, 3, 4, 5],\n",
        "    'B': [5, 4, 3, 2, 1],\n",
        "    'C': [2, 3, 4, 5, 6]\n",
        "}\n",
        "df = pd.DataFrame(data)\n",
        "\n",
        "# Calculate correlation matrix\n",
        "corr_matrix = df.corr()\n",
        "\n",
        "# Plot heatmap\n",
        "sns.heatmap(corr_matrix, annot=True, cmap='coolwarm', fmt=\".2f\")\n",
        "\n",
        "plt.title(\"Correlation Matrix Heatmap\")\n",
        "plt.show()\n"
      ],
      "metadata": {
        "colab": {
          "base_uri": "https://localhost:8080/",
          "height": 452
        },
        "id": "pKqDJNznUD5t",
        "outputId": "8ce141ac-e433-4dd3-c52a-07b4ca77151c"
      },
      "execution_count": 4,
      "outputs": [
        {
          "output_type": "display_data",
          "data": {
            "text/plain": [
              "<Figure size 640x480 with 2 Axes>"
            ],
            "image/png": "[encoded data removed]"
          },
          "metadata": {}
        }
      ]
    },
    {
      "cell_type": "code",
      "source": [],
      "metadata": {
        "id": "dVwK0U2vUUEd"
      },
      "execution_count": null,
      "outputs": []
    },
    {
      "cell_type": "markdown",
      "source": [
        "5.Generate a bar plot using Plotly."
      ],
      "metadata": {
        "id": "nqJVyWZRUnoB"
      }
    },
    {
      "cell_type": "code",
      "source": [
        "import plotly.express as px\n",
        "import pandas as pd\n",
        "\n",
        "# Sample data\n",
        "data = {\n",
        "    'Fruit': ['Apples', 'Bananas', 'Cherries', 'Dates'],\n",
        "    'Quantity': [10, 15, 7, 12]\n",
        "}\n",
        "df = pd.DataFrame(data)\n",
        "\n",
        "# Create bar plot\n",
        "fig = px.bar(df, x='Fruit', y='Quantity',\n",
        "             title='Fruit Quantity',\n",
        "             labels={'Quantity': 'Number of Fruits'},\n",
        "             color='Fruit')\n",
        "\n",
        "# Show plot\n",
        "fig.show()\n"
      ],
      "metadata": {
        "colab": {
          "base_uri": "https://localhost:8080/",
          "height": 542
        },
        "id": "x8qgNnrbUpHP",
        "outputId": "165cff3c-c3b5-4e3a-bc39-7f09538f1265"
      },
      "execution_count": 5,
      "outputs": [
        {
          "output_type": "display_data",
          "data": {
            "text/html": [
              "<html>\n",
              "<head><meta charset=\"utf-8\" /></head>\n",
              "<body>\n",
              "    <div>            <script src=\"https://cdnjs.cloudflare.com/ajax/libs/mathjax/2.7.5/MathJax.js?config=TeX-AMS-MML_SVG\"></script><script type=\"text/javascript\">if (window.MathJax && window.MathJax.Hub && window.MathJax.Hub.Config) {window.MathJax.Hub.Config({SVG: {font: \"STIX-Web\"}});}</script>                <script type=\"text/javascript\">window.PlotlyConfig = {MathJaxConfig: 'local'};</script>\n",
              "        <script charset=\"utf-8\" src=\"https://cdn.plot.ly/plotly-2.35.2.min.js\"></script>                <div id=\"e637594b-5964-46ae-9c4e-ef1f6c46fea4\" class=\"plotly-graph-div\" style=\"height:525px; width:100%;\"></div>            <script type=\"text/javascript\">                                    window.PLOTLYENV=window.PLOTLYENV || {};                                    if (document.getElementById(\"e637594b-5964-46ae-9c4e-ef1f6c46fea4\")) {                    Plotly.newPlot(                        \"e637594b-5964-46ae-9c4e-ef1f6c46fea4\",                        [{\"alignmentgroup\":\"True\",\"hovertemplate\":\"Fruit=%{x}\\u003cbr\\u003eNumber of Fruits=%{y}\\u003cextra\\u003e\\u003c\\u002fextra\\u003e\",\"legendgroup\":\"Apples\",\"marker\":{\"color\":\"#636efa\",\"pattern\":{\"shape\":\"\"}},\"name\":\"Apples\",\"offsetgroup\":\"Apples\",\"orientation\":\"v\",\"showlegend\":true,\"textposition\":\"auto\",\"x\":[\"Apples\"],\"xaxis\":\"x\",\"y\":[10],\"yaxis\":\"y\",\"type\":\"bar\"},{\"alignmentgroup\":\"True\",\"hovertemplate\":\"Fruit=%{x}\\u003cbr\\u003eNumber of Fruits=%{y}\\u003cextra\\u003e\\u003c\\u002fextra\\u003e\",\"legendgroup\":\"Bananas\",\"marker\":{\"color\":\"#EF553B\",\"pattern\":{\"shape\":\"\"}},\"name\":\"Bananas\",\"offsetgroup\":\"Bananas\",\"orientation\":\"v\",\"showlegend\":true,\"textposition\":\"auto\",\"x\":[\"Bananas\"],\"xaxis\":\"x\",\"y\":[15],\"yaxis\":\"y\",\"type\":\"bar\"},{\"alignmentgroup\":\"True\",\"hovertemplate\":\"Fruit=%{x}\\u003cbr\\u003eNumber of Fruits=%{y}\\u003cextra\\u003e\\u003c\\u002fextra\\u003e\",\"legendgroup\":\"Cherries\",\"marker\":{\"color\":\"#00cc96\",\"pattern\":{\"shape\":\"\"}},\"name\":\"Cherries\",\"offsetgroup\":\"Cherries\",\"orientation\":\"v\",\"showlegend\":true,\"textposition\":\"auto\",\"x\":[\"Cherries\"],\"xaxis\":\"x\",\"y\":[7],\"yaxis\":\"y\",\"type\":\"bar\"},{\"alignmentgroup\":\"True\",\"hovertemplate\":\"Fruit=%{x}\\u003cbr\\u003eNumber of Fruits=%{y}\\u003cextra\\u003e\\u003c\\u002fextra\\u003e\",\"legendgroup\":\"Dates\",\"marker\":{\"color\":\"#ab63fa\",\"pattern\":{\"shape\":\"\"}},\"name\":\"Dates\",\"offsetgroup\":\"Dates\",\"orientation\":\"v\",\"showlegend\":true,\"textposition\":\"auto\",\"x\":[\"Dates\"],\"xaxis\":\"x\",\"y\":[12],\"yaxis\":\"y\",\"type\":\"bar\"}],                        {\"template\":{\"data\":{\"histogram2dcontour\":[{\"type\":\"histogram2dcontour\",\"colorbar\":{\"outlinewidth\":0,\"ticks\":\"\"},\"colorscale\":[[0.0,\"#0d0887\"],[0.1111111111111111,\"#46039f\"],[0.2222222222222222,\"#7201a8\"],[0.3333333333333333,\"#9c179e\"],[0.4444444444444444,\"#bd3786\"],[0.5555555555555556,\"#d8576b\"],[0.6666666666666666,\"#ed7953\"],[0.7777777777777778,\"#fb9f3a\"],[0.8888888888888888,\"#fdca26\"],[1.0,\"#f0f921\"]]}],\"choropleth\":[{\"type\":\"choropleth\",\"colorbar\":{\"outlinewidth\":0,\"ticks\":\"\"}}],\"histogram2d\":[{\"type\":\"histogram2d\",\"colorbar\":{\"outlinewidth\":0,\"ticks\":\"\"},\"colorscale\":[[0.0,\"#0d0887\"],[0.1111111111111111,\"#46039f\"],[0.2222222222222222,\"#7201a8\"],[0.3333333333333333,\"#9c179e\"],[0.4444444444444444,\"#bd3786\"],[0.5555555555555556,\"#d8576b\"],[0.6666666666666666,\"#ed7953\"],[0.7777777777777778,\"#fb9f3a\"],[0.8888888888888888,\"#fdca26\"],[1.0,\"#f0f921\"]]}],\"heatmap\":[{\"type\":\"heatmap\",\"colorbar\":{\"outlinewidth\":0,\"ticks\":\"\"},\"colorscale\":[[0.0,\"#0d0887\"],[0.1111111111111111,\"#46039f\"],[0.2222222222222222,\"#7201a8\"],[0.3333333333333333,\"#9c179e\"],[0.4444444444444444,\"#bd3786\"],[0.5555555555555556,\"#d8576b\"],[0.6666666666666666,\"#ed7953\"],[0.7777777777777778,\"#fb9f3a\"],[0.8888888888888888,\"#fdca26\"],[1.0,\"#f0f921\"]]}],\"heatmapgl\":[{\"type\":\"heatmapgl\",\"colorbar\":{\"outlinewidth\":0,\"ticks\":\"\"},\"colorscale\":[[0.0,\"#0d0887\"],[0.1111111111111111,\"#46039f\"],[0.2222222222222222,\"#7201a8\"],[0.3333333333333333,\"#9c179e\"],[0.4444444444444444,\"#bd3786\"],[0.5555555555555556,\"#d8576b\"],[0.6666666666666666,\"#ed7953\"],[0.7777777777777778,\"#fb9f3a\"],[0.8888888888888888,\"#fdca26\"],[1.0,\"#f0f921\"]]}],\"contourcarpet\":[{\"type\":\"contourcarpet\",\"colorbar\":{\"outlinewidth\":0,\"ticks\":\"\"}}],\"contour\":[{\"type\":\"contour\",\"colorbar\":{\"outlinewidth\":0,\"ticks\":\"\"},\"colorscale\":[[0.0,\"#0d0887\"],[0.1111111111111111,\"#46039f\"],[0.2222222222222222,\"#7201a8\"],[0.3333333333333333,\"#9c179e\"],[0.4444444444444444,\"#bd3786\"],[0.5555555555555556,\"#d8576b\"],[0.6666666666666666,\"#ed7953\"],[0.7777777777777778,\"#fb9f3a\"],[0.8888888888888888,\"#fdca26\"],[1.0,\"#f0f921\"]]}],\"surface\":[{\"type\":\"surface\",\"colorbar\":{\"outlinewidth\":0,\"ticks\":\"\"},\"colorscale\":[[0.0,\"#0d0887\"],[0.1111111111111111,\"#46039f\"],[0.2222222222222222,\"#7201a8\"],[0.3333333333333333,\"#9c179e\"],[0.4444444444444444,\"#bd3786\"],[0.5555555555555556,\"#d8576b\"],[0.6666666666666666,\"#ed7953\"],[0.7777777777777778,\"#fb9f3a\"],[0.8888888888888888,\"#fdca26\"],[1.0,\"#f0f921\"]]}],\"mesh3d\":[{\"type\":\"mesh3d\",\"colorbar\":{\"outlinewidth\":0,\"ticks\":\"\"}}],\"scatter\":[{\"fillpattern\":{\"fillmode\":\"overlay\",\"size\":10,\"solidity\":0.2},\"type\":\"scatter\"}],\"parcoords\":[{\"type\":\"parcoords\",\"line\":{\"colorbar\":{\"outlinewidth\":0,\"ticks\":\"\"}}}],\"scatterpolargl\":[{\"type\":\"scatterpolargl\",\"marker\":{\"colorbar\":{\"outlinewidth\":0,\"ticks\":\"\"}}}],\"bar\":[{\"error_x\":{\"color\":\"#2a3f5f\"},\"error_y\":{\"color\":\"#2a3f5f\"},\"marker\":{\"line\":{\"color\":\"#E5ECF6\",\"width\":0.5},\"pattern\":{\"fillmode\":\"overlay\",\"size\":10,\"solidity\":0.2}},\"type\":\"bar\"}],\"scattergeo\":[{\"type\":\"scattergeo\",\"marker\":{\"colorbar\":{\"outlinewidth\":0,\"ticks\":\"\"}}}],\"scatterpolar\":[{\"type\":\"scatterpolar\",\"marker\":{\"colorbar\":{\"outlinewidth\":0,\"ticks\":\"\"}}}],\"histogram\":[{\"marker\":{\"pattern\":{\"fillmode\":\"overlay\",\"size\":10,\"solidity\":0.2}},\"type\":\"histogram\"}],\"scattergl\":[{\"type\":\"scattergl\",\"marker\":{\"colorbar\":{\"outlinewidth\":0,\"ticks\":\"\"}}}],\"scatter3d\":[{\"type\":\"scatter3d\",\"line\":{\"colorbar\":{\"outlinewidth\":0,\"ticks\":\"\"}},\"marker\":{\"colorbar\":{\"outlinewidth\":0,\"ticks\":\"\"}}}],\"scattermapbox\":[{\"type\":\"scattermapbox\",\"marker\":{\"colorbar\":{\"outlinewidth\":0,\"ticks\":\"\"}}}],\"scatterternary\":[{\"type\":\"scatterternary\",\"marker\":{\"colorbar\":{\"outlinewidth\":0,\"ticks\":\"\"}}}],\"scattercarpet\":[{\"type\":\"scattercarpet\",\"marker\":{\"colorbar\":{\"outlinewidth\":0,\"ticks\":\"\"}}}],\"carpet\":[{\"aaxis\":{\"endlinecolor\":\"#2a3f5f\",\"gridcolor\":\"white\",\"linecolor\":\"white\",\"minorgridcolor\":\"white\",\"startlinecolor\":\"#2a3f5f\"},\"baxis\":{\"endlinecolor\":\"#2a3f5f\",\"gridcolor\":\"white\",\"linecolor\":\"white\",\"minorgridcolor\":\"white\",\"startlinecolor\":\"#2a3f5f\"},\"type\":\"carpet\"}],\"table\":[{\"cells\":{\"fill\":{\"color\":\"#EBF0F8\"},\"line\":{\"color\":\"white\"}},\"header\":{\"fill\":{\"color\":\"#C8D4E3\"},\"line\":{\"color\":\"white\"}},\"type\":\"table\"}],\"barpolar\":[{\"marker\":{\"line\":{\"color\":\"#E5ECF6\",\"width\":0.5},\"pattern\":{\"fillmode\":\"overlay\",\"size\":10,\"solidity\":0.2}},\"type\":\"barpolar\"}],\"pie\":[{\"automargin\":true,\"type\":\"pie\"}]},\"layout\":{\"autotypenumbers\":\"strict\",\"colorway\":[\"#636efa\",\"#EF553B\",\"#00cc96\",\"#ab63fa\",\"#FFA15A\",\"#19d3f3\",\"#FF6692\",\"#B6E880\",\"#FF97FF\",\"#FECB52\"],\"font\":{\"color\":\"#2a3f5f\"},\"hovermode\":\"closest\",\"hoverlabel\":{\"align\":\"left\"},\"paper_bgcolor\":\"white\",\"plot_bgcolor\":\"#E5ECF6\",\"polar\":{\"bgcolor\":\"#E5ECF6\",\"angularaxis\":{\"gridcolor\":\"white\",\"linecolor\":\"white\",\"ticks\":\"\"},\"radialaxis\":{\"gridcolor\":\"white\",\"linecolor\":\"white\",\"ticks\":\"\"}},\"ternary\":{\"bgcolor\":\"#E5ECF6\",\"aaxis\":{\"gridcolor\":\"white\",\"linecolor\":\"white\",\"ticks\":\"\"},\"baxis\":{\"gridcolor\":\"white\",\"linecolor\":\"white\",\"ticks\":\"\"},\"caxis\":{\"gridcolor\":\"white\",\"linecolor\":\"white\",\"ticks\":\"\"}},\"coloraxis\":{\"colorbar\":{\"outlinewidth\":0,\"ticks\":\"\"}},\"colorscale\":{\"sequential\":[[0.0,\"#0d0887\"],[0.1111111111111111,\"#46039f\"],[0.2222222222222222,\"#7201a8\"],[0.3333333333333333,\"#9c179e\"],[0.4444444444444444,\"#bd3786\"],[0.5555555555555556,\"#d8576b\"],[0.6666666666666666,\"#ed7953\"],[0.7777777777777778,\"#fb9f3a\"],[0.8888888888888888,\"#fdca26\"],[1.0,\"#f0f921\"]],\"sequentialminus\":[[0.0,\"#0d0887\"],[0.1111111111111111,\"#46039f\"],[0.2222222222222222,\"#7201a8\"],[0.3333333333333333,\"#9c179e\"],[0.4444444444444444,\"#bd3786\"],[0.5555555555555556,\"#d8576b\"],[0.6666666666666666,\"#ed7953\"],[0.7777777777777778,\"#fb9f3a\"],[0.8888888888888888,\"#fdca26\"],[1.0,\"#f0f921\"]],\"diverging\":[[0,\"#8e0152\"],[0.1,\"#c51b7d\"],[0.2,\"#de77ae\"],[0.3,\"#f1b6da\"],[0.4,\"#fde0ef\"],[0.5,\"#f7f7f7\"],[0.6,\"#e6f5d0\"],[0.7,\"#b8e186\"],[0.8,\"#7fbc41\"],[0.9,\"#4d9221\"],[1,\"#276419\"]]},\"xaxis\":{\"gridcolor\":\"white\",\"linecolor\":\"white\",\"ticks\":\"\",\"title\":{\"standoff\":15},\"zerolinecolor\":\"white\",\"automargin\":true,\"zerolinewidth\":2},\"yaxis\":{\"gridcolor\":\"white\",\"linecolor\":\"white\",\"ticks\":\"\",\"title\":{\"standoff\":15},\"zerolinecolor\":\"white\",\"automargin\":true,\"zerolinewidth\":2},\"scene\":{\"xaxis\":{\"backgroundcolor\":\"#E5ECF6\",\"gridcolor\":\"white\",\"linecolor\":\"white\",\"showbackground\":true,\"ticks\":\"\",\"zerolinecolor\":\"white\",\"gridwidth\":2},\"yaxis\":{\"backgroundcolor\":\"#E5ECF6\",\"gridcolor\":\"white\",\"linecolor\":\"white\",\"showbackground\":true,\"ticks\":\"\",\"zerolinecolor\":\"white\",\"gridwidth\":2},\"zaxis\":{\"backgroundcolor\":\"#E5ECF6\",\"gridcolor\":\"white\",\"linecolor\":\"white\",\"showbackground\":true,\"ticks\":\"\",\"zerolinecolor\":\"white\",\"gridwidth\":2}},\"shapedefaults\":{\"line\":{\"color\":\"#2a3f5f\"}},\"annotationdefaults\":{\"arrowcolor\":\"#2a3f5f\",\"arrowhead\":0,\"arrowwidth\":1},\"geo\":{\"bgcolor\":\"white\",\"landcolor\":\"#E5ECF6\",\"subunitcolor\":\"white\",\"showland\":true,\"showlakes\":true,\"lakecolor\":\"white\"},\"title\":{\"x\":0.05},\"mapbox\":{\"style\":\"light\"}}},\"xaxis\":{\"anchor\":\"y\",\"domain\":[0.0,1.0],\"title\":{\"text\":\"Fruit\"},\"categoryorder\":\"array\",\"categoryarray\":[\"Apples\",\"Bananas\",\"Cherries\",\"Dates\"]},\"yaxis\":{\"anchor\":\"x\",\"domain\":[0.0,1.0],\"title\":{\"text\":\"Number of Fruits\"}},\"legend\":{\"title\":{\"text\":\"Fruit\"},\"tracegroupgap\":0},\"title\":{\"text\":\"Fruit Quantity\"},\"barmode\":\"relative\"},                        {\"responsive\": true}                    ).then(function(){\n",
              "                            \n",
              "var gd = document.getElementById('e637594b-5964-46ae-9c4e-ef1f6c46fea4');\n",
              "var x = new MutationObserver(function (mutations, observer) {{\n",
              "        var display = window.getComputedStyle(gd).display;\n",
              "        if (!display || display === 'none') {{\n",
              "            console.log([gd, 'removed!']);\n",
              "            Plotly.purge(gd);\n",
              "            observer.disconnect();\n",
              "        }}\n",
              "}});\n",
              "\n",
              "// Listen for the removal of the full notebook cells\n",
              "var notebookContainer = gd.closest('#notebook-container');\n",
              "if (notebookContainer) {{\n",
              "    x.observe(notebookContainer, {childList: true});\n",
              "}}\n",
              "\n",
              "// Listen for the clearing of the current output cell\n",
              "var outputEl = gd.closest('.output');\n",
              "if (outputEl) {{\n",
              "    x.observe(outputEl, {childList: true});\n",
              "}}\n",
              "\n",
              "                        })                };                            </script>        </div>\n",
              "</body>\n",
              "</html>"
            ]
          },
          "metadata": {}
        }
      ]
    },
    {
      "cell_type": "markdown",
      "source": [
        "6.A Create a DataFrame and add a new column based on an existing column."
      ],
      "metadata": {
        "id": "_zg0i8b2U2Ym"
      }
    },
    {
      "cell_type": "code",
      "source": [
        "import pandas as pd\n",
        "\n",
        "# Create DataFrame\n",
        "data = {\n",
        "    'Name': ['Alice', 'Bob', 'Charlie', 'David'],\n",
        "    'Salary': [50000, 60000, 70000, 80000]\n",
        "}\n",
        "df = pd.DataFrame(data)\n",
        "\n",
        "# Add a new column based on an existing one (e.g., 10% bonus)\n",
        "df['Bonus'] = df['Salary'] * 0.10\n",
        "\n",
        "print(df)\n"
      ],
      "metadata": {
        "colab": {
          "base_uri": "https://localhost:8080/"
        },
        "id": "oiJYzxilU8Tz",
        "outputId": "870f930e-e3c4-45eb-e448-7205ee6e94da"
      },
      "execution_count": 6,
      "outputs": [
        {
          "output_type": "stream",
          "name": "stdout",
          "text": [
            "      Name  Salary   Bonus\n",
            "0    Alice   50000  5000.0\n",
            "1      Bob   60000  6000.0\n",
            "2  Charlie   70000  7000.0\n",
            "3    David   80000  8000.0\n"
          ]
        }
      ]
    },
    {
      "cell_type": "markdown",
      "source": [
        "7.Write a program to perform element-wise multiplication of two NumPy arraysA"
      ],
      "metadata": {
        "id": "LY_k44EIVKiH"
      }
    },
    {
      "cell_type": "code",
      "source": [
        "import numpy as np\n",
        "\n",
        "# Create two NumPy arrays\n",
        "arr1 = np.array([1, 2, 3, 4])\n",
        "arr2 = np.array([5, 6, 7, 8])\n",
        "\n",
        "# Element-wise multiplication\n",
        "result = arr1 * arr2   # or np.multiply(arr1, arr2)\n",
        "\n",
        "# Display result\n",
        "print(\"Array 1:\", arr1)\n",
        "print(\"Array 2:\", arr2)\n",
        "print(\"Element-wise multiplication:\", result)\n"
      ],
      "metadata": {
        "colab": {
          "base_uri": "https://localhost:8080/"
        },
        "id": "Yda4H7MFVN2s",
        "outputId": "e15840ae-3eed-4e4c-d665-1151d0b88788"
      },
      "execution_count": 7,
      "outputs": [
        {
          "output_type": "stream",
          "name": "stdout",
          "text": [
            "Array 1: [1 2 3 4]\n",
            "Array 2: [5 6 7 8]\n",
            "Element-wise multiplication: [ 5 12 21 32]\n"
          ]
        }
      ]
    },
    {
      "cell_type": "markdown",
      "source": [
        "8.Create a line plot with multiple lines using Matplotlib"
      ],
      "metadata": {
        "id": "E4e_RzMfVZfa"
      }
    },
    {
      "cell_type": "code",
      "source": [
        "import matplotlib.pyplot as plt\n",
        "\n",
        "# Sample data\n",
        "x = [1, 2, 3, 4, 5]\n",
        "y1 = [2, 4, 6, 8, 10]\n",
        "y2 = [1, 3, 5, 7, 9]\n",
        "y3 = [2, 3, 4, 5, 6]\n",
        "\n",
        "# Plot multiple lines\n",
        "plt.plot(x, y1, label=\"Line 1\", marker='o')\n",
        "plt.plot(x, y2, label=\"Line 2\", marker='s')\n",
        "plt.plot(x, y3, label=\"Line 3\", marker='^')\n",
        "\n",
        "# Add labels and title\n",
        "plt.xlabel(\"X-axis\")\n",
        "plt.ylabel(\"Y-axis\")\n",
        "plt.title(\"Line Plot with Multiple Lines\")\n",
        "plt.legend()\n",
        "\n",
        "# Show plot\n",
        "plt.show()\n"
      ],
      "metadata": {
        "colab": {
          "base_uri": "https://localhost:8080/",
          "height": 472
        },
        "id": "2NsKiftTVcaf",
        "outputId": "67da5e60-360e-4b3d-82e3-80ca9b62aad0"
      },
      "execution_count": 8,
      "outputs": [
        {
          "output_type": "display_data",
          "data": {
            "text/plain": [
              "<Figure size 640x480 with 1 Axes>"
            ],
            "image/png": "[encoded data removed]"
          },
          "metadata": {}
        }
      ]
    },
    {
      "cell_type": "code",
      "source": [],
      "metadata": {
        "id": "_qjz2FgjVhOx"
      },
      "execution_count": null,
      "outputs": []
    },
    {
      "cell_type": "markdown",
      "source": [
        "9. Generate a Pandas DataFrame and filter rows where a column value is greater than a threshold."
      ],
      "metadata": {
        "id": "WPou5lIeVkQB"
      }
    },
    {
      "cell_type": "code",
      "source": [
        "import pandas as pd\n",
        "\n",
        "# Create a sample DataFrame\n",
        "data = {\n",
        "    'Name': ['Alice', 'Bob', 'Charlie', 'David'],\n",
        "    'Age': [25, 32, 29, 41]\n",
        "}\n",
        "df = pd.DataFrame(data)\n",
        "\n",
        "# Define threshold\n",
        "threshold = 30\n",
        "\n",
        "# Filter rows where Age > threshold\n",
        "filtered_df = df[df['Age'] > threshold]\n",
        "\n",
        "print(\"Original DataFrame:\\n\", df)\n",
        "print(\"\\nFiltered DataFrame (Age > 30):\\n\", filtered_df)\n"
      ],
      "metadata": {
        "colab": {
          "base_uri": "https://localhost:8080/"
        },
        "id": "iY1RUGwyVoiD",
        "outputId": "ab89662e-5b81-4fd2-dbdb-265783b36b4a"
      },
      "execution_count": 9,
      "outputs": [
        {
          "output_type": "stream",
          "name": "stdout",
          "text": [
            "Original DataFrame:\n",
            "       Name  Age\n",
            "0    Alice   25\n",
            "1      Bob   32\n",
            "2  Charlie   29\n",
            "3    David   41\n",
            "\n",
            "Filtered DataFrame (Age > 30):\n",
            "     Name  Age\n",
            "1    Bob   32\n",
            "3  David   41\n"
          ]
        }
      ]
    },
    {
      "cell_type": "markdown",
      "source": [
        "10.A Create a histogram using Seaborn to visualize a distribution."
      ],
      "metadata": {
        "id": "txE-p8OEVxRU"
      }
    },
    {
      "cell_type": "code",
      "source": [
        "import seaborn as sns\n",
        "import matplotlib.pyplot as plt\n",
        "import pandas as pd\n",
        "import numpy as np\n",
        "\n",
        "# Create sample data\n",
        "np.random.seed(42)\n",
        "data = pd.DataFrame({\n",
        "    'Age': np.random.normal(loc=30, scale=5, size=200)  # mean=30, std=5\n",
        "})\n",
        "\n",
        "# Create histogram\n",
        "sns.histplot(data=data, x='Age', bins=20, kde=True, color='skyblue')\n",
        "\n",
        "# Add labels and title\n",
        "plt.title(\"Age Distribution\")\n",
        "plt.xlabel(\"Age\")\n",
        "plt.ylabel(\"Frequency\")\n",
        "\n",
        "# Show plot\n",
        "plt.show()\n"
      ],
      "metadata": {
        "colab": {
          "base_uri": "https://localhost:8080/",
          "height": 472
        },
        "id": "mJW6GzTpVy7l",
        "outputId": "73189cb7-3edd-4f87-ede4-bcee04c77238"
      },
      "execution_count": 11,
      "outputs": [
        {
          "output_type": "display_data",
          "data": {
            "text/plain": [
              "<Figure size 640x480 with 1 Axes>"
            ],
            "image/png": "[encoded data removed]"
          },
          "metadata": {}
        }
      ]
    },
    {
      "cell_type": "code",
      "source": [],
      "metadata": {
        "id": "sadhCySAV38L"
      },
      "execution_count": null,
      "outputs": []
    },
    {
      "cell_type": "markdown",
      "source": [
        "11. Perform matrix multiplication using NumPy."
      ],
      "metadata": {
        "id": "Jp-VYgbNV9l2"
      }
    },
    {
      "cell_type": "code",
      "source": [
        "import numpy as np\n",
        "\n",
        "# Create two matrices\n",
        "A = np.array([[1, 2],\n",
        "              [3, 4]])\n",
        "B = np.array([[5, 6],\n",
        "              [7, 8]])\n",
        "\n",
        "# Perform matrix multiplication\n",
        "result = np.dot(A, B)         # Method 1\n",
        "# result = A @ B              # Method 2 (Python 3.5+ operator)\n",
        "\n",
        "# Display results\n",
        "print(\"Matrix A:\\n\", A)\n",
        "print(\"Matrix B:\\n\", B)\n",
        "print(\"Matrix Multiplication Result:\\n\", result)\n"
      ],
      "metadata": {
        "colab": {
          "base_uri": "https://localhost:8080/"
        },
        "id": "hEd73Th_V_89",
        "outputId": "e52df9e4-98d8-472e-d48f-4d097ce91d13"
      },
      "execution_count": 12,
      "outputs": [
        {
          "output_type": "stream",
          "name": "stdout",
          "text": [
            "Matrix A:\n",
            " [[1 2]\n",
            " [3 4]]\n",
            "Matrix B:\n",
            " [[5 6]\n",
            " [7 8]]\n",
            "Matrix Multiplication Result:\n",
            " [[19 22]\n",
            " [43 50]]\n"
          ]
        }
      ]
    },
    {
      "cell_type": "code",
      "source": [],
      "metadata": {
        "id": "Ussag1ECWG74"
      },
      "execution_count": null,
      "outputs": []
    },
    {
      "cell_type": "markdown",
      "source": [
        "12.Use Pandas to load a CSV file and display its first 5 rows"
      ],
      "metadata": {
        "id": "wLjZyKV9WKTC"
      }
    },
    {
      "cell_type": "code",
      "source": [
        "import pandas as pd\n",
        "\n",
        "# Load the CSV file into a DataFrame\n",
        "df = pd.read_csv(\"googleplaystore\")  # Replace with your CSV file path\n",
        "\n",
        "# Display the first 5 rows\n",
        "print(df.head())\n"
      ],
      "metadata": {
        "colab": {
          "base_uri": "https://localhost:8080/",
          "height": 356
        },
        "id": "6q3NGL0pWN_Z",
        "outputId": "9f89c7a3-3299-438f-822d-006ff56c30d1"
      },
      "execution_count": 15,
      "outputs": [
        {
          "output_type": "error",
          "ename": "FileNotFoundError",
          "evalue": "[Errno 2] No such file or directory: 'googleplaystore'",
          "traceback": [
            "\u001b[0;31m---------------------------------------------------------------------------\u001b[0m",
            "\u001b[0;31mFileNotFoundError\u001b[0m                         Traceback (most recent call last)",
            "\u001b[0;32m/tmp/ipython-input-2858759421.py\u001b[0m in \u001b[0;36m<cell line: 0>\u001b[0;34m()\u001b[0m\n\u001b[1;32m      2\u001b[0m \u001b[0;34m\u001b[0m\u001b[0m\n\u001b[1;32m      3\u001b[0m \u001b[0;31m# Load the CSV file into a DataFrame\u001b[0m\u001b[0;34m\u001b[0m\u001b[0;34m\u001b[0m\u001b[0m\n\u001b[0;32m----> 4\u001b[0;31m \u001b[0mdf\u001b[0m \u001b[0;34m=\u001b[0m \u001b[0mpd\u001b[0m\u001b[0;34m.\u001b[0m\u001b[0mread_csv\u001b[0m\u001b[0;34m(\u001b[0m\u001b[0;34m\"googleplaystore\"\u001b[0m\u001b[0;34m)\u001b[0m  \u001b[0;31m# Replace with your CSV file path\u001b[0m\u001b[0;34m\u001b[0m\u001b[0;34m\u001b[0m\u001b[0m\n\u001b[0m\u001b[1;32m      5\u001b[0m \u001b[0;34m\u001b[0m\u001b[0m\n\u001b[1;32m      6\u001b[0m \u001b[0;31m# Display the first 5 rows\u001b[0m\u001b[0;34m\u001b[0m\u001b[0;34m\u001b[0m\u001b[0m\n",
            "\u001b[0;32m/usr/local/lib/python3.11/dist-packages/pandas/io/parsers/readers.py\u001b[0m in \u001b[0;36mread_csv\u001b[0;34m(filepath_or_buffer, sep, delimiter, header, names, index_col, usecols, dtype, engine, converters, true_values, false_values, skipinitialspace, skiprows, skipfooter, nrows, na_values, keep_default_na, na_filter, verbose, skip_blank_lines, parse_dates, infer_datetime_format, keep_date_col, date_parser, date_format, dayfirst, cache_dates, iterator, chunksize, compression, thousands, decimal, lineterminator, quotechar, quoting, doublequote, escapechar, comment, encoding, encoding_errors, dialect, on_bad_lines, delim_whitespace, low_memory, memory_map, float_precision, storage_options, dtype_backend)\u001b[0m\n\u001b[1;32m   1024\u001b[0m     \u001b[0mkwds\u001b[0m\u001b[0;34m.\u001b[0m\u001b[0mupdate\u001b[0m\u001b[0;34m(\u001b[0m\u001b[0mkwds_defaults\u001b[0m\u001b[0;34m)\u001b[0m\u001b[0;34m\u001b[0m\u001b[0;34m\u001b[0m\u001b[0m\n\u001b[1;32m   1025\u001b[0m \u001b[0;34m\u001b[0m\u001b[0m\n\u001b[0;32m-> 1026\u001b[0;31m     \u001b[0;32mreturn\u001b[0m \u001b[0m_read\u001b[0m\u001b[0;34m(\u001b[0m\u001b[0mfilepath_or_buffer\u001b[0m\u001b[0;34m,\u001b[0m \u001b[0mkwds\u001b[0m\u001b[0;34m)\u001b[0m\u001b[0;34m\u001b[0m\u001b[0;34m\u001b[0m\u001b[0m\n\u001b[0m\u001b[1;32m   1027\u001b[0m \u001b[0;34m\u001b[0m\u001b[0m\n\u001b[1;32m   1028\u001b[0m \u001b[0;34m\u001b[0m\u001b[0m\n",
            "\u001b[0;32m/usr/local/lib/python3.11/dist-packages/pandas/io/parsers/readers.py\u001b[0m in \u001b[0;36m_read\u001b[0;34m(filepath_or_buffer, kwds)\u001b[0m\n\u001b[1;32m    618\u001b[0m \u001b[0;34m\u001b[0m\u001b[0m\n\u001b[1;32m    619\u001b[0m     \u001b[0;31m# Create the parser.\u001b[0m\u001b[0;34m\u001b[0m\u001b[0;34m\u001b[0m\u001b[0m\n\u001b[0;32m--> 620\u001b[0;31m     \u001b[0mparser\u001b[0m \u001b[0;34m=\u001b[0m \u001b[0mTextFileReader\u001b[0m\u001b[0;34m(\u001b[0m\u001b[0mfilepath_or_buffer\u001b[0m\u001b[0;34m,\u001b[0m \u001b[0;34m**\u001b[0m\u001b[0mkwds\u001b[0m\u001b[0;34m)\u001b[0m\u001b[0;34m\u001b[0m\u001b[0;34m\u001b[0m\u001b[0m\n\u001b[0m\u001b[1;32m    621\u001b[0m \u001b[0;34m\u001b[0m\u001b[0m\n\u001b[1;32m    622\u001b[0m     \u001b[0;32mif\u001b[0m \u001b[0mchunksize\u001b[0m \u001b[0;32mor\u001b[0m \u001b[0miterator\u001b[0m\u001b[0;34m:\u001b[0m\u001b[0;34m\u001b[0m\u001b[0;34m\u001b[0m\u001b[0m\n",
            "\u001b[0;32m/usr/local/lib/python3.11/dist-packages/pandas/io/parsers/readers.py\u001b[0m in \u001b[0;36m__init__\u001b[0;34m(self, f, engine, **kwds)\u001b[0m\n\u001b[1;32m   1618\u001b[0m \u001b[0;34m\u001b[0m\u001b[0m\n\u001b[1;32m   1619\u001b[0m         \u001b[0mself\u001b[0m\u001b[0;34m.\u001b[0m\u001b[0mhandles\u001b[0m\u001b[0;34m:\u001b[0m \u001b[0mIOHandles\u001b[0m \u001b[0;34m|\u001b[0m \u001b[0;32mNone\u001b[0m \u001b[0;34m=\u001b[0m \u001b[0;32mNone\u001b[0m\u001b[0;34m\u001b[0m\u001b[0;34m\u001b[0m\u001b[0m\n\u001b[0;32m-> 1620\u001b[0;31m         \u001b[0mself\u001b[0m\u001b[0;34m.\u001b[0m\u001b[0m_engine\u001b[0m \u001b[0;34m=\u001b[0m \u001b[0mself\u001b[0m\u001b[0;34m.\u001b[0m\u001b[0m_make_engine\u001b[0m\u001b[0;34m(\u001b[0m\u001b[0mf\u001b[0m\u001b[0;34m,\u001b[0m \u001b[0mself\u001b[0m\u001b[0;34m.\u001b[0m\u001b[0mengine\u001b[0m\u001b[0;34m)\u001b[0m\u001b[0;34m\u001b[0m\u001b[0;34m\u001b[0m\u001b[0m\n\u001b[0m\u001b[1;32m   1621\u001b[0m \u001b[0;34m\u001b[0m\u001b[0m\n\u001b[1;32m   1622\u001b[0m     \u001b[0;32mdef\u001b[0m \u001b[0mclose\u001b[0m\u001b[0;34m(\u001b[0m\u001b[0mself\u001b[0m\u001b[0;34m)\u001b[0m \u001b[0;34m->\u001b[0m \u001b[0;32mNone\u001b[0m\u001b[0;34m:\u001b[0m\u001b[0;34m\u001b[0m\u001b[0;34m\u001b[0m\u001b[0m\n",
            "\u001b[0;32m/usr/local/lib/python3.11/dist-packages/pandas/io/parsers/readers.py\u001b[0m in \u001b[0;36m_make_engine\u001b[0;34m(self, f, engine)\u001b[0m\n\u001b[1;32m   1878\u001b[0m                 \u001b[0;32mif\u001b[0m \u001b[0;34m\"b\"\u001b[0m \u001b[0;32mnot\u001b[0m \u001b[0;32min\u001b[0m \u001b[0mmode\u001b[0m\u001b[0;34m:\u001b[0m\u001b[0;34m\u001b[0m\u001b[0;34m\u001b[0m\u001b[0m\n\u001b[1;32m   1879\u001b[0m                     \u001b[0mmode\u001b[0m \u001b[0;34m+=\u001b[0m \u001b[0;34m\"b\"\u001b[0m\u001b[0;34m\u001b[0m\u001b[0;34m\u001b[0m\u001b[0m\n\u001b[0;32m-> 1880\u001b[0;31m             self.handles = get_handle(\n\u001b[0m\u001b[1;32m   1881\u001b[0m                 \u001b[0mf\u001b[0m\u001b[0;34m,\u001b[0m\u001b[0;34m\u001b[0m\u001b[0;34m\u001b[0m\u001b[0m\n\u001b[1;32m   1882\u001b[0m                 \u001b[0mmode\u001b[0m\u001b[0;34m,\u001b[0m\u001b[0;34m\u001b[0m\u001b[0;34m\u001b[0m\u001b[0m\n",
            "\u001b[0;32m/usr/local/lib/python3.11/dist-packages/pandas/io/common.py\u001b[0m in \u001b[0;36mget_handle\u001b[0;34m(path_or_buf, mode, encoding, compression, memory_map, is_text, errors, storage_options)\u001b[0m\n\u001b[1;32m    871\u001b[0m         \u001b[0;32mif\u001b[0m \u001b[0mioargs\u001b[0m\u001b[0;34m.\u001b[0m\u001b[0mencoding\u001b[0m \u001b[0;32mand\u001b[0m \u001b[0;34m\"b\"\u001b[0m \u001b[0;32mnot\u001b[0m \u001b[0;32min\u001b[0m \u001b[0mioargs\u001b[0m\u001b[0;34m.\u001b[0m\u001b[0mmode\u001b[0m\u001b[0;34m:\u001b[0m\u001b[0;34m\u001b[0m\u001b[0;34m\u001b[0m\u001b[0m\n\u001b[1;32m    872\u001b[0m             \u001b[0;31m# Encoding\u001b[0m\u001b[0;34m\u001b[0m\u001b[0;34m\u001b[0m\u001b[0m\n\u001b[0;32m--> 873\u001b[0;31m             handle = open(\n\u001b[0m\u001b[1;32m    874\u001b[0m                 \u001b[0mhandle\u001b[0m\u001b[0;34m,\u001b[0m\u001b[0;34m\u001b[0m\u001b[0;34m\u001b[0m\u001b[0m\n\u001b[1;32m    875\u001b[0m                 \u001b[0mioargs\u001b[0m\u001b[0;34m.\u001b[0m\u001b[0mmode\u001b[0m\u001b[0;34m,\u001b[0m\u001b[0;34m\u001b[0m\u001b[0;34m\u001b[0m\u001b[0m\n",
            "\u001b[0;31mFileNotFoundError\u001b[0m: [Errno 2] No such file or directory: 'googleplaystore'"
          ]
        }
      ]
    },
    {
      "cell_type": "code",
      "source": [],
      "metadata": {
        "id": "vjnExzBXWVXO"
      },
      "execution_count": null,
      "outputs": []
    },
    {
      "cell_type": "markdown",
      "source": [
        "13. Create a 3D scatter plot using Plotly."
      ],
      "metadata": {
        "id": "XfPl3WxhW5t8"
      }
    },
    {
      "cell_type": "code",
      "source": [
        "import plotly.express as px\n",
        "import pandas as pd\n",
        "\n",
        "# Sample data\n",
        "data = {\n",
        "    'X': [1, 2, 3, 4, 5],\n",
        "    'Y': [10, 11, 12, 13, 14],\n",
        "    'Z': [5, 6, 7, 8, 9],\n",
        "    'Category': ['A', 'B', 'A', 'B', 'A']\n",
        "}\n",
        "df = pd.DataFrame(data)\n",
        "\n",
        "# Create 3D scatter plot\n",
        "fig = px.scatter_3d(\n",
        "    df,\n",
        "    x='X',\n",
        "    y='Y',\n",
        "    z='Z',\n",
        "    color='Category',        # Color points by category\n",
        "    size='Z',                # Size points by Z values\n",
        "    symbol='Category',       # Different marker symbols\n",
        "    ti\n"
      ],
      "metadata": {
        "colab": {
          "base_uri": "https://localhost:8080/",
          "height": 106
        },
        "id": "nD4iAHZSW7_5",
        "outputId": "d9d23619-62c0-4187-d37d-5d657b8aa4f1"
      },
      "execution_count": 16,
      "outputs": [
        {
          "output_type": "error",
          "ename": "SyntaxError",
          "evalue": "incomplete input (ipython-input-3440971158.py, line 22)",
          "traceback": [
            "\u001b[0;36m  File \u001b[0;32m\"/tmp/ipython-input-3440971158.py\"\u001b[0;36m, line \u001b[0;32m22\u001b[0m\n\u001b[0;31m    ti\u001b[0m\n\u001b[0m      ^\u001b[0m\n\u001b[0;31mSyntaxError\u001b[0m\u001b[0;31m:\u001b[0m incomplete input\n"
          ]
        }
      ]
    },
    {
      "cell_type": "code",
      "source": [],
      "metadata": {
        "id": "itOQIMTDXARz"
      },
      "execution_count": null,
      "outputs": []
    }
  ]
}